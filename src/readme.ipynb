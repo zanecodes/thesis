{
 "cells": [
  {
   "cell_type": "markdown",
   "metadata": {},
   "source": [
    "# Hand Pose Estimation with Keras\n",
    "\n",
    "## Zane Geiger"
   ]
  },
  {
   "cell_type": "markdown",
   "metadata": {},
   "source": [
    "### Introduction\n",
    "\n",
    "Hand pose estimation is a difficult problem with many potential applications in virtual reality, augmented reality. Depth information makes it a more tractable task, but there are still many challenges involved due to the high dimensionality of hand pose information, self-similarity, and self-occlusion. Recent papers have applied deep convolutional neural networks to this problem, with high levels of success. Enforcing a prior model on the hand pose further improves predictions, as well as refining joint locations using independent networks.\n",
    "\n",
    "Modern deep learning toolkits such as TensorFlow and Keras enable rapid prototyping of network architectures and hyperparameters. Importantly, TensorFlow makes it relatively easy to run models on low-powered hardware, providing libraries for Android and ARM devices and accelerating computations by offloading them to the mobile GPU. With this in mind, we have taken an existing approach to hand pose estimation, first introduced by Oberweger et. al, and created an implementation in Keras using TensorFlow as a backend.\n",
    "\n",
    "### Existing work\n",
    "\n",
    "This project will attempt to reproduce the results of Oberweger et. al in [Hands Deep in Deep Learning for Hand Pose Estimation](https://arxiv.org/abs/1502.06807) using [Keras](https://keras.io) with the [TensorFlow](https://www.tensorflow.org/) backend using the [NYU hand pose dataset](http://cims.nyu.edu/~tompson/NYU_Hand_Pose_Dataset.htm).\n",
    "\n",
    "This initial implementation is based heavily on the work of [James Supancic](http://www.ics.uci.edu/~jsupanci/) in his [Deep Hand Pose](https://github.com/jsupancic/deep_hand_pose) project, which is implemented in the [Caffe](http://caffe.berkeleyvision.org/) framework, but is likely to diverge substantially as my research continues.\n",
    "\n",
    "What works?\n",
    "Why did I focus on what I did?\n",
    "\n",
    "### Replication\n",
    "\n",
    "There are two major components to this implementation: [a deep learning model](model) and [a data processing pipeline](data).\n",
    "\n",
    "Overview of NYU work & explanations\n",
    "Discuss Deep Hand Pose paper, project, and Caffe implementation (what & why)\n",
    "\n",
    "### Mobile\n",
    "\n",
    "### Future work"
   ]
  }
 ],
 "metadata": {
  "anaconda-cloud": {},
  "kernelspec": {
   "display_name": "Python [Root]",
   "language": "python",
   "name": "Python [Root]"
  },
  "language_info": {
   "codemirror_mode": {
    "name": "ipython",
    "version": 3
   },
   "file_extension": ".py",
   "mimetype": "text/x-python",
   "name": "python",
   "nbconvert_exporter": "python",
   "pygments_lexer": "ipython3",
   "version": "3.5.2"
  }
 },
 "nbformat": 4,
 "nbformat_minor": 0
}
