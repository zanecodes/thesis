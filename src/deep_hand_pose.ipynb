{
 "cells": [
  {
   "cell_type": "code",
   "execution_count": 10,
   "metadata": {
    "collapsed": false
   },
   "outputs": [],
   "source": [
    "from keras.models import Sequential\n",
    "from keras.optimizers import SGD\n",
    "from keras.callbacks import LearningRateScheduler\n",
    "from keras.layers import *\n",
    "import tensorflow\n",
    "import math\n",
    "import h5py\n",
    "from os import path"
   ]
  },
  {
   "cell_type": "code",
   "execution_count": null,
   "metadata": {
    "collapsed": true
   },
   "outputs": [],
   "source": [
    "DATASET_DIR      = '../dataset'\n",
    "dataset          = h5py.File(path.join(DATASET_DIR, 'dataset.hdf5'))\n",
    "\n",
    "test_images      = dataset['images/test']\n",
    "test_labels      = dataset['labels/test']\n",
    "\n",
    "train_images     = dataset['images/train']\n",
    "train_labels     = dataset['labels/train']\n",
    "\n",
    "pca_eigenvectors = dataset['pca/eigenvectors']\n",
    "pca_mean         = dataset['pca/mean']"
   ]
  },
  {
   "cell_type": "code",
   "execution_count": 11,
   "metadata": {
    "collapsed": true
   },
   "outputs": [],
   "source": [
    "def euclidean(y_true, y_pred):\n",
    "    n = int(y_pred.get_shape()[1])\n",
    "    return tensorflow.reduce_sum((y_true - y_pred) ** 2) / (2 * n)"
   ]
  },
  {
   "cell_type": "code",
   "execution_count": 12,
   "metadata": {
    "collapsed": false
   },
   "outputs": [],
   "source": [
    "# Caffe has a learning rate decay policy called 'inv'.\n",
    "# The learning rate equals base_lr * (1 + gamma * epoch) ^ (-power).\n",
    "def inv_decay(base_lr, gamma, power):\n",
    "    def decay(epoch):\n",
    "        return base_lr * (1 + gamma * epoch) ** (-power)\n",
    "    \n",
    "    return decay"
   ]
  },
  {
   "cell_type": "code",
   "execution_count": 13,
   "metadata": {
    "collapsed": false
   },
   "outputs": [],
   "source": [
    "# Caffe's Xavier filler uses a uniform distribution with a\n",
    "# standard deviation of sqrt(3 / fan_in) by default.\n",
    "# This is almost, but not quite equivalent to Keras' he_uniform initializer,\n",
    "# which uses a standard deviation of sqrt(6 / fan_in).\n",
    "def xavier(shape, name=None, dim_ordering='th'):\n",
    "    return initializations.he_uniform(shape, name, dim_ordering) / math.sqrt(2)"
   ]
  },
  {
   "cell_type": "code",
   "execution_count": 14,
   "metadata": {
    "collapsed": true
   },
   "outputs": [],
   "source": [
    "def gaussian(std_dev):\n",
    "    def init(shape, name=None):\n",
    "        return initializations.normal(shape, std_dev, name)\n",
    "    \n",
    "    return init"
   ]
  },
  {
   "cell_type": "code",
   "execution_count": 15,
   "metadata": {
    "collapsed": false
   },
   "outputs": [],
   "source": [
    "model = Sequential([\n",
    "        Convolution2D(\n",
    "            nb_filter   = 8,\n",
    "            nb_row      = 5,\n",
    "            nb_col      = 5,\n",
    "            init        = xavier,\n",
    "            input_shape = (128, 128, 1)\n",
    "        ),\n",
    "        MaxPooling2D(\n",
    "            pool_size   = (2, 2)\n",
    "        ),\n",
    "        LeakyReLU(\n",
    "            alpha       = 0.05\n",
    "        ),\n",
    "        Convolution2D(\n",
    "            nb_filter   = 8,\n",
    "            nb_row      = 5,\n",
    "            nb_col      = 5,\n",
    "            init        = xavier\n",
    "        ),\n",
    "        MaxPooling2D(\n",
    "            pool_size   = (2, 2)\n",
    "        ),\n",
    "        LeakyReLU(\n",
    "            alpha       = 0.05\n",
    "        ),\n",
    "        Convolution2D(\n",
    "            nb_filter   = 8,\n",
    "            nb_row      = 5,\n",
    "            nb_col      = 5,\n",
    "            init        = xavier\n",
    "        ),\n",
    "        LeakyReLU(\n",
    "            alpha       = 0.05\n",
    "        ),\n",
    "        Flatten(),\n",
    "        Dense(\n",
    "            output_dim  = 1024,\n",
    "            init        = gaussian(std_dev=0.01),\n",
    "            activation  = 'relu'\n",
    "        ),\n",
    "        Dense(\n",
    "            output_dim  = 1024,\n",
    "            init        = gaussian(std_dev=0.05),\n",
    "            activation  = 'relu'\n",
    "        ),\n",
    "        Dense(\n",
    "            output_dim  = 22,\n",
    "            init        = gaussian(std_dev=0.02)\n",
    "        ),\n",
    "        Dense(\n",
    "            output_dim  = 28,\n",
    "            weights     = (pca_eigenvectors, pca_mean),\n",
    "            trainable   = False\n",
    "        )\n",
    "    ])"
   ]
  },
  {
   "cell_type": "code",
   "execution_count": 16,
   "metadata": {
    "collapsed": false
   },
   "outputs": [],
   "source": [
    "model.compile(\n",
    "    optimizer = SGD(\n",
    "        lr       = 0.000005,\n",
    "        momentum = 0.9\n",
    "    ),\n",
    "    loss         = euclidean\n",
    ")"
   ]
  },
  {
   "cell_type": "code",
   "execution_count": 9,
   "metadata": {
    "collapsed": false
   },
   "outputs": [
    {
     "ename": "NameError",
     "evalue": "name 'train_images' is not defined",
     "output_type": "error",
     "traceback": [
      "\u001b[1;31m\u001b[0m",
      "\u001b[1;31mNameError\u001b[0mTraceback (most recent call last)",
      "\u001b[1;32m<ipython-input-9-b2276a321f26>\u001b[0m in \u001b[0;36m<module>\u001b[1;34m()\u001b[0m\n\u001b[0;32m      1\u001b[0m model.fit(\n\u001b[1;32m----> 2\u001b[1;33m     \u001b[0mtrain_images\u001b[0m\u001b[1;33m,\u001b[0m\u001b[1;33m\u001b[0m\u001b[0m\n\u001b[0m\u001b[0;32m      3\u001b[0m     \u001b[0mtrain_labels\u001b[0m\u001b[1;33m,\u001b[0m\u001b[1;33m\u001b[0m\u001b[0m\n\u001b[0;32m      4\u001b[0m     \u001b[0mbatch_size\u001b[0m \u001b[1;33m=\u001b[0m \u001b[1;36m64\u001b[0m\u001b[1;33m,\u001b[0m\u001b[1;33m\u001b[0m\u001b[0m\n\u001b[0;32m      5\u001b[0m     \u001b[0mnb_epoch\u001b[0m   \u001b[1;33m=\u001b[0m \u001b[1;36m40000\u001b[0m\u001b[1;33m,\u001b[0m\u001b[1;33m\u001b[0m\u001b[0m\n",
      "\u001b[1;31mNameError\u001b[0m: name 'train_images' is not defined"
     ]
    }
   ],
   "source": [
    "model.fit(\n",
    "    train_images,\n",
    "    train_labels,\n",
    "    batch_size = 64,\n",
    "    nb_epoch   = 40000,\n",
    "    callbacks  = [LearningRateScheduler(\n",
    "            inv_decay(\n",
    "                base_lr = 0.000005,\n",
    "                gamma   = 0.0001,\n",
    "                power   = 0.75\n",
    "            ))])"
   ]
  },
  {
   "cell_type": "code",
   "execution_count": null,
   "metadata": {
    "collapsed": true
   },
   "outputs": [],
   "source": [
    "model.evaluate(\n",
    "    test_images,\n",
    "    test_labels,\n",
    "    batch_size = 64\n",
    ")"
   ]
  }
 ],
 "metadata": {
  "anaconda-cloud": {},
  "kernelspec": {
   "display_name": "Python [Root]",
   "language": "python",
   "name": "Python [Root]"
  },
  "language_info": {
   "codemirror_mode": {
    "name": "ipython",
    "version": 3
   },
   "file_extension": ".py",
   "mimetype": "text/x-python",
   "name": "python",
   "nbconvert_exporter": "python",
   "pygments_lexer": "ipython3",
   "version": "3.5.2"
  }
 },
 "nbformat": 4,
 "nbformat_minor": 0
}
