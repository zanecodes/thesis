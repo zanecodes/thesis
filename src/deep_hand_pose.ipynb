{
 "cells": [
  {
   "cell_type": "markdown",
   "metadata": {},
   "source": [
    "# Hand pose estimation with Keras\n",
    "## Zane Geiger\n",
    "\n",
    "### Introduction\n",
    "\n",
    "This project will attempt to reproduce the results of Oberweger et. al in [Hands Deep in Deep Learning for Hand Pose Estimation](https://arxiv.org/abs/1502.06807) using [Keras](https://keras.io) with the [TensorFlow](https://www.tensorflow.org/) backend using the [NYU hand pose dataset](http://cims.nyu.edu/~tompson/NYU_Hand_Pose_Dataset.htm).\n",
    "\n",
    "This initial implementation is based heavily on the work of James Supancic in his [Deep Hand Pose](https://github.com/jsupancic/deep_hand_pose) project, which is implemented in the [Caffe](http://caffe.berkeleyvision.org/) framework, but is likely to diverge substantially as my research continues.\n",
    "\n",
    "This file contains all the code necessary to build the first stage pose estimation model as described in Figure 1b of [Hands Deep in Deep Learning](https://arxiv.org/pdf/1502.06807v2.pdf), but does not yet implement the hand pose prior constraint."
   ]
  },
  {
   "cell_type": "code",
   "execution_count": null,
   "metadata": {
    "collapsed": false
   },
   "outputs": [],
   "source": [
    "from keras.models import Sequential, model_from_yaml, load_model\n",
    "from keras.optimizers import SGD\n",
    "from keras.callbacks import LearningRateScheduler, TensorBoard\n",
    "from keras.layers import *\n",
    "from keras.backend.tensorflow_backend import set_session\n",
    "import tensorflow as tf\n",
    "import math\n",
    "import h5py\n",
    "from os import path"
   ]
  },
  {
   "cell_type": "markdown",
   "metadata": {},
   "source": [
    "### Loading dataset\n",
    "\n",
    "The default dataset location is the [dataset](../dataset) subfolder of the project root.\n",
    "The [.hdf5](http://www.h5py.org/) file produced by [convert_images.ipynb](convert_images#Output-dataset) is placed in this directory after processing."
   ]
  },
  {
   "cell_type": "code",
   "execution_count": null,
   "metadata": {
    "collapsed": false
   },
   "outputs": [],
   "source": [
    "DATASET_DIR      = '../dataset'\n",
    "dataset          = h5py.File(path.join(DATASET_DIR, 'dataset.hdf5'))\n",
    "\n",
    "test_images      = dataset['image/test']\n",
    "test_labels      = dataset['label/test']\n",
    "\n",
    "train_images     = dataset['image/train']\n",
    "train_labels     = dataset['label/train']\n",
    "\n",
    "pca_eigenvectors = dataset['pca/eigenvectors']\n",
    "pca_mean         = dataset['pca/mean']"
   ]
  },
  {
   "cell_type": "markdown",
   "metadata": {},
   "source": [
    "### Loss function\n",
    "\n",
    "The loss function used in the [Deep Hand Pose](https://github.com/jsupancic/deep_hand_pose/blob/master/examples/deep_hand_pose/oberweger-bgn.prototxt#L574) project is [Caffe's Euclidean loss](http://caffe.berkeleyvision.org/tutorial/layers/euclideanloss.html), which is computed as\n",
    "\n",
    "$$ \\frac 1 {2N} \\sum_{i=1}^N \\| {x_1}_i - {x_2}_i \\|^2 $$"
   ]
  },
  {
   "cell_type": "code",
   "execution_count": null,
   "metadata": {
    "collapsed": true
   },
   "outputs": [],
   "source": [
    "def euclidean(y_true, y_pred):\n",
    "    return tf.reduce_sum((y_true - y_pred) ** 2)"
   ]
  },
  {
   "cell_type": "markdown",
   "metadata": {},
   "source": [
    "### Learning rate decay policy\n",
    "\n",
    "The learning rate decay policy used in [Deep Hand Pose](https://github.com/jsupancic/deep_hand_pose/blob/master/examples/deep_hand_pose/solver.prototxt#L24) is [Caffe's 'inv' policy](https://github.com/jsupancic/deep_hand_pose/blob/master/src/caffe/proto/caffe.proto#L162), where the current learning rate is defined to be\n",
    "\n",
    "$$ r(i) = \\frac {r(0)} {(1 + \\gamma i) ^ p} $$"
   ]
  },
  {
   "cell_type": "code",
   "execution_count": null,
   "metadata": {
    "collapsed": false
   },
   "outputs": [],
   "source": [
    "def inv_decay(base_lr, gamma, power):\n",
    "    def decay(epoch):\n",
    "        return base_lr * (1 + gamma * epoch) ** (-power)\n",
    "    \n",
    "    return decay"
   ]
  },
  {
   "cell_type": "markdown",
   "metadata": {},
   "source": [
    "### Xavier initializer\n",
    "\n",
    "The convolutional layers in the [Deep Hand Pose](https://github.com/jsupancic/deep_hand_pose/blob/master/examples/deep_hand_pose/oberweger-pca.prototxt#L53) project use [Caffe's Xavier filler](http://caffe.berkeleyvision.org/doxygen/classcaffe_1_1XavierFiller.html#details), which is computed as\n",
    "\n",
    "$$ x \\sim U(-a, +a) $$\n",
    "\n",
    "where\n",
    "\n",
    "$$ a = \\sqrt {\\frac 3 n} $$\n",
    "\n",
    "and $ n $, by default, is the number of inputs to the layer (fan in).\n",
    "\n",
    "Keras has a similar [he_uniform](https://github.com/fchollet/keras/blob/master/keras/initializations.py#L80) initializer, where\n",
    "\n",
    "$$ a = \\sqrt {\\frac 6 n} $$\n",
    "\n",
    "and $ n $ is the number of inputs to the layer."
   ]
  },
  {
   "cell_type": "code",
   "execution_count": null,
   "metadata": {
    "collapsed": false
   },
   "outputs": [],
   "source": [
    "def xavier(shape, name=None, dim_ordering='th'):\n",
    "    fan_in, fan_out = initializations.get_fans(shape, dim_ordering=dim_ordering)\n",
    "    s = np.sqrt(3. / fan_in)\n",
    "    return initializations.uniform(shape, s, name=name)"
   ]
  },
  {
   "cell_type": "markdown",
   "metadata": {},
   "source": [
    "### Gaussian initializer\n",
    "\n",
    "The fully connected layers in the [Deep Hand Pose](https://github.com/jsupancic/deep_hand_pose/blob/master/examples/deep_hand_pose/oberweger-pca.prototxt#L195) project use [Caffe's Gaussian filler](http://caffe.berkeleyvision.org/doxygen/classcaffe_1_1GaussianFiller.html#details) with various standard deviations."
   ]
  },
  {
   "cell_type": "code",
   "execution_count": null,
   "metadata": {
    "collapsed": true
   },
   "outputs": [],
   "source": [
    "def gaussian(std_dev):\n",
    "    def init(shape, name=None):\n",
    "        return initializations.normal(shape, std_dev, name)\n",
    "    \n",
    "    return init"
   ]
  },
  {
   "cell_type": "code",
   "execution_count": null,
   "metadata": {
    "collapsed": true
   },
   "outputs": [],
   "source": [
    "config = tf.ConfigProto()\n",
    "config.gpu_options.allow_growth=True\n",
    "set_session(tf.Session(config=config))"
   ]
  },
  {
   "cell_type": "markdown",
   "metadata": {},
   "source": [
    "### Network layers\n",
    "\n",
    "This network is very similar to that implemented in the [Deep Hand Pose](https://github.com/jsupancic/deep_hand_pose/blob/master/examples/deep_hand_pose/oberweger-pca.prototxt) project."
   ]
  },
  {
   "cell_type": "code",
   "execution_count": null,
   "metadata": {
    "collapsed": false
   },
   "outputs": [],
   "source": [
    "model = Sequential([\n",
    "        Convolution2D(\n",
    "            nb_filter   = 8,\n",
    "            nb_row      = 5,\n",
    "            nb_col      = 5,\n",
    "            init        = xavier,\n",
    "            input_shape = (128, 128, 1)\n",
    "        ),\n",
    "        MaxPooling2D(\n",
    "            pool_size   = (2, 2)\n",
    "        ),\n",
    "        LeakyReLU(\n",
    "            alpha       = 0.05\n",
    "        ),\n",
    "        Convolution2D(\n",
    "            nb_filter   = 8,\n",
    "            nb_row      = 5,\n",
    "            nb_col      = 5,\n",
    "            init        = xavier\n",
    "        ),\n",
    "        MaxPooling2D(\n",
    "            pool_size   = (2, 2)\n",
    "        ),\n",
    "        LeakyReLU(\n",
    "            alpha       = 0.05\n",
    "        ),\n",
    "        Convolution2D(\n",
    "            nb_filter   = 8,\n",
    "            nb_row      = 5,\n",
    "            nb_col      = 5,\n",
    "            init        = xavier\n",
    "        ),\n",
    "        LeakyReLU(\n",
    "            alpha       = 0.05\n",
    "        ),\n",
    "        Flatten(),\n",
    "        Dense(\n",
    "            output_dim  = 1024,\n",
    "            init        = gaussian(std_dev=0.01),\n",
    "            activation  = 'relu'\n",
    "        ),\n",
    "        Dense(\n",
    "            output_dim  = 1024,\n",
    "            init        = gaussian(std_dev=0.05),\n",
    "            activation  = 'relu'\n",
    "        ),\n",
    "        Dense(\n",
    "            output_dim  = 22,\n",
    "            init        = gaussian(std_dev=0.02)\n",
    "        ),\n",
    "        Dense(\n",
    "            output_dim  = 28,\n",
    "            weights     = (pca_eigenvectors, pca_mean),\n",
    "            trainable   = False\n",
    "        )\n",
    "    ])"
   ]
  },
  {
   "cell_type": "markdown",
   "metadata": {},
   "source": [
    "### Optimizer\n",
    "\n",
    "The optimizer used in the [Deep Hand Pose](https://github.com/jsupancic/deep_hand_pose/blob/master/examples/deep_hand_pose/solver.prototxt#L37) project is [Caffe's stochastic gradient descent](http://caffe.berkeleyvision.org/tutorial/solver.html#sgd), with an [initial learning rate](https://github.com/jsupancic/deep_hand_pose/blob/master/examples/deep_hand_pose/solver.prototxt#L17) of 0.000005 and a [momentum](https://github.com/jsupancic/deep_hand_pose/blob/master/examples/deep_hand_pose/solver.prototxt#L19) of 0.9.\n",
    "\n",
    "As mentioned [above](#Loss-function), the loss function used is Euclidean loss."
   ]
  },
  {
   "cell_type": "code",
   "execution_count": null,
   "metadata": {
    "collapsed": false
   },
   "outputs": [],
   "source": [
    "model.compile(\n",
    "    optimizer = SGD(\n",
    "        lr       = 0.000005,\n",
    "        momentum = 0.9\n",
    "    ),\n",
    "    loss         = euclidean\n",
    ")"
   ]
  },
  {
   "cell_type": "markdown",
   "metadata": {},
   "source": [
    "### Training\n",
    "\n",
    "Similarly to the Deep Hand Pose project, we perform [40000 epochs](https://github.com/jsupancic/deep_hand_pose/blob/master/examples/deep_hand_pose/solver.prototxt#L31) of training with batches of [64 images](https://github.com/jsupancic/deep_hand_pose/blob/master/examples/deep_hand_pose/oberweger-pca.prototxt#L14).\n",
    "\n",
    "As mentioned [above](#Learning-rate-decay-policy), the learning rate decay used is Caffe's 'inv' policy, with an [initial learning rate](https://github.com/jsupancic/deep_hand_pose/blob/master/examples/deep_hand_pose/solver.prototxt#L17) of 0.000005, a [gamma](https://github.com/jsupancic/deep_hand_pose/blob/master/examples/deep_hand_pose/solver.prototxt#L25) of 0.0001, and a [power](https://github.com/jsupancic/deep_hand_pose/blob/master/examples/deep_hand_pose/solver.prototxt#L26) of 0.75."
   ]
  },
  {
   "cell_type": "code",
   "execution_count": null,
   "metadata": {
    "collapsed": false
   },
   "outputs": [],
   "source": [
    "model.fit(\n",
    "    train_images,\n",
    "    train_labels,\n",
    "    batch_size = 64,\n",
    "    shuffle    = 'batch',\n",
    "    nb_epoch   = 40000,\n",
    "    callbacks  = [\n",
    "        LearningRateScheduler(\n",
    "            inv_decay(\n",
    "                base_lr = 0.000005,\n",
    "                gamma   = 0.0001,\n",
    "                power   = 0.75\n",
    "        ))\n",
    "    ])"
   ]
  },
  {
   "cell_type": "markdown",
   "metadata": {},
   "source": [
    "### Evaluation\n",
    "\n",
    "We evaluate the model on the training set with a batch size of 64, measuring the Euclidean loss."
   ]
  },
  {
   "cell_type": "code",
   "execution_count": null,
   "metadata": {
    "collapsed": false
   },
   "outputs": [],
   "source": [
    "model.evaluate(\n",
    "    test_images,\n",
    "    test_labels,\n",
    "    batch_size = 64\n",
    ")"
   ]
  }
 ],
 "metadata": {
  "anaconda-cloud": {},
  "kernelspec": {
   "display_name": "Python [Root]",
   "language": "python",
   "name": "Python [Root]"
  },
  "language_info": {
   "codemirror_mode": {
    "name": "ipython",
    "version": 3
   },
   "file_extension": ".py",
   "mimetype": "text/x-python",
   "name": "python",
   "nbconvert_exporter": "python",
   "pygments_lexer": "ipython3",
   "version": "3.5.2"
  }
 },
 "nbformat": 4,
 "nbformat_minor": 0
}
