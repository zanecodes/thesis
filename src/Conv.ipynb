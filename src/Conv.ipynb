{
 "cells": [
  {
   "cell_type": "code",
   "execution_count": 1,
   "metadata": {
    "collapsed": true
   },
   "outputs": [],
   "source": [
    "import numpy as np\n",
    "import tensorflow as tf\n",
    "from sklearn.preprocessing import OneHotEncoder\n",
    "from sklearn.metrics import accuracy_score\n",
    "import math"
   ]
  },
  {
   "cell_type": "code",
   "execution_count": 2,
   "metadata": {
    "collapsed": true
   },
   "outputs": [],
   "source": [
    "data = np.load('/raided/datasets/MNIST_train_40000.npz')"
   ]
  },
  {
   "cell_type": "code",
   "execution_count": 3,
   "metadata": {
    "collapsed": false
   },
   "outputs": [],
   "source": [
    "labels = OneHotEncoder(sparse=False).fit_transform(data['train_labels'].reshape(-1, 1))\n",
    "images = data['train_images']\n",
    "images = np.expand_dims(images, axis=-1)"
   ]
  },
  {
   "cell_type": "code",
   "execution_count": 4,
   "metadata": {
    "collapsed": true
   },
   "outputs": [],
   "source": [
    "def split_data(data, labels, train_percent):\n",
    "    batch_size = math.floor(data.shape[0] * train_percent)\n",
    "    data, labels = get_minibatches(data, labels, batch_size)\n",
    "    return data[0], labels[0], data[1], labels[1]"
   ]
  },
  {
   "cell_type": "code",
   "execution_count": 5,
   "metadata": {
    "collapsed": true
   },
   "outputs": [],
   "source": [
    "def get_minibatches(data, labels, batch_size):\n",
    "    shuffled_indices = np.random.permutation(data.shape[0])\n",
    "    split_indices = np.arange(batch_size, data.shape[0], batch_size)\n",
    "    return np.split(data[shuffled_indices], split_indices), np.split(labels[shuffled_indices], split_indices)"
   ]
  },
  {
   "cell_type": "code",
   "execution_count": 6,
   "metadata": {
    "collapsed": false
   },
   "outputs": [],
   "source": [
    "train_images, train_labels, test_images, test_labels = split_data(images, labels, 0.8)"
   ]
  },
  {
   "cell_type": "code",
   "execution_count": 7,
   "metadata": {
    "collapsed": false
   },
   "outputs": [],
   "source": [
    "batch_size = 128\n",
    "width = images.shape[1]\n",
    "height = images.shape[2]\n",
    "channels = 1"
   ]
  },
  {
   "cell_type": "code",
   "execution_count": 8,
   "metadata": {
    "collapsed": false
   },
   "outputs": [],
   "source": [
    "x = tf.placeholder(tf.float32, (None, width, height, channels))\n",
    "y = tf.placeholder(tf.float32, (None, 10))\n",
    "\n",
    "with tf.variable_scope('layer1'):\n",
    "    conv1 = tf.contrib.layers.convolution2d(x, 32, 3)\n",
    "    pool1 = tf.nn.max_pool(conv1, (1, 2, 2, 1), (1, 2, 2, 1), 'SAME')\n",
    "\n",
    "with tf.variable_scope('layer2'):\n",
    "    conv2 = tf.contrib.layers.convolution2d(pool1, 64, 3)\n",
    "    pool2 = tf.nn.max_pool(conv2, (1, 2, 2, 1), (1, 2, 2, 1), 'SAME')"
   ]
  },
  {
   "cell_type": "code",
   "execution_count": 9,
   "metadata": {
    "collapsed": true
   },
   "outputs": [],
   "source": [
    "flat = tf.reshape(pool2, (-1, np.prod(pool2.get_shape()[1:]).value))\n",
    "hidden = tf.contrib.layers.fully_connected(flat, 1024, tf.nn.relu, )"
   ]
  },
  {
   "cell_type": "code",
   "execution_count": 10,
   "metadata": {
    "collapsed": false
   },
   "outputs": [],
   "source": [
    "output = tf.contrib.layers.fully_connected(hidden, 10, tf.nn.relu)\n",
    "prediction = tf.nn.softmax(output)\n",
    "loss = tf.reduce_mean(tf.nn.softmax_cross_entropy_with_logits(output, y))"
   ]
  },
  {
   "cell_type": "code",
   "execution_count": 11,
   "metadata": {
    "collapsed": false
   },
   "outputs": [],
   "source": [
    "train = tf.train.AdamOptimizer().minimize(loss)"
   ]
  },
  {
   "cell_type": "code",
   "execution_count": 12,
   "metadata": {
    "collapsed": true
   },
   "outputs": [],
   "source": [
    "init = tf.initialize_all_variables()\n",
    "sess = tf.Session()\n",
    "sess.run(init)"
   ]
  },
  {
   "cell_type": "code",
   "execution_count": 13,
   "metadata": {
    "collapsed": false
   },
   "outputs": [
    {
     "name": "stdout",
     "output_type": "stream",
     "text": [
      "Epoch: 0\tAccuracy: 0.787\tCross entropy: 0.525\n",
      "Epoch: 1\tAccuracy: 0.796\tCross entropy: 0.490\n",
      "Epoch: 2\tAccuracy: 0.798\tCross entropy: 0.485\n",
      "Epoch: 3\tAccuracy: 0.796\tCross entropy: 0.486\n",
      "Epoch: 4\tAccuracy: 0.794\tCross entropy: 0.491\n",
      "Epoch: 5\tAccuracy: 0.799\tCross entropy: 0.481\n",
      "Epoch: 6\tAccuracy: 0.799\tCross entropy: 0.477\n",
      "Epoch: 7\tAccuracy: 0.799\tCross entropy: 0.481\n",
      "Epoch: 8\tAccuracy: 0.797\tCross entropy: 0.487\n",
      "Epoch: 9\tAccuracy: 0.799\tCross entropy: 0.484\n",
      "Epoch: 10\tAccuracy: 0.799\tCross entropy: 0.494\n",
      "Epoch: 11\tAccuracy: 0.800\tCross entropy: 0.481\n",
      "Epoch: 12\tAccuracy: 0.798\tCross entropy: 0.487\n",
      "Epoch: 13\tAccuracy: 0.800\tCross entropy: 0.474\n",
      "Epoch: 14\tAccuracy: 0.798\tCross entropy: 0.484\n",
      "Epoch: 15\tAccuracy: 0.800\tCross entropy: 0.478\n",
      "Epoch: 16\tAccuracy: 0.800\tCross entropy: 0.480\n",
      "Epoch: 17\tAccuracy: 0.795\tCross entropy: 0.500\n",
      "Epoch: 18\tAccuracy: 0.797\tCross entropy: 0.481\n",
      "Epoch: 19\tAccuracy: 0.799\tCross entropy: 0.479\n",
      "Epoch: 20\tAccuracy: 0.801\tCross entropy: 0.482\n",
      "Epoch: 21\tAccuracy: 0.800\tCross entropy: 0.478\n",
      "Epoch: 22\tAccuracy: 0.800\tCross entropy: 0.480\n",
      "Epoch: 23\tAccuracy: 0.798\tCross entropy: 0.484\n",
      "Epoch: 24\tAccuracy: 0.798\tCross entropy: 0.485\n",
      "Epoch: 25\tAccuracy: 0.800\tCross entropy: 0.480\n",
      "Epoch: 26\tAccuracy: 0.800\tCross entropy: 0.479\n",
      "Epoch: 27\tAccuracy: 0.801\tCross entropy: 0.481\n",
      "Epoch: 28\tAccuracy: 0.801\tCross entropy: 0.483\n",
      "Epoch: 29\tAccuracy: 0.801\tCross entropy: 0.480\n",
      "Epoch: 30\tAccuracy: 0.801\tCross entropy: 0.482\n",
      "Epoch: 31\tAccuracy: 0.801\tCross entropy: 0.482\n",
      "Epoch: 32\tAccuracy: 0.801\tCross entropy: 0.483\n",
      "Epoch: 33\tAccuracy: 0.801\tCross entropy: 0.484\n",
      "Epoch: 34\tAccuracy: 0.801\tCross entropy: 0.485\n",
      "Epoch: 35\tAccuracy: 0.797\tCross entropy: 0.521\n",
      "Epoch: 36\tAccuracy: 0.794\tCross entropy: 0.498\n",
      "Epoch: 37\tAccuracy: 0.800\tCross entropy: 0.480\n",
      "Epoch: 38\tAccuracy: 0.800\tCross entropy: 0.480\n",
      "Epoch: 39\tAccuracy: 0.801\tCross entropy: 0.481\n",
      "Epoch: 40\tAccuracy: 0.801\tCross entropy: 0.481\n",
      "Epoch: 41\tAccuracy: 0.801\tCross entropy: 0.483\n",
      "Epoch: 42\tAccuracy: 0.801\tCross entropy: 0.483\n",
      "Epoch: 43\tAccuracy: 0.801\tCross entropy: 0.484\n",
      "Epoch: 44\tAccuracy: 0.801\tCross entropy: 0.485\n",
      "Epoch: 45\tAccuracy: 0.801\tCross entropy: 0.486\n",
      "Epoch: 46\tAccuracy: 0.801\tCross entropy: 0.486\n",
      "Epoch: 47\tAccuracy: 0.801\tCross entropy: 0.487\n",
      "Epoch: 48\tAccuracy: 0.795\tCross entropy: 0.496\n",
      "Epoch: 49\tAccuracy: 0.797\tCross entropy: 0.489\n",
      "Epoch: 50\tAccuracy: 0.800\tCross entropy: 0.480\n",
      "Epoch: 51\tAccuracy: 0.895\tCross entropy: 0.287\n",
      "Epoch: 52\tAccuracy: 0.896\tCross entropy: 0.265\n",
      "Epoch: 53\tAccuracy: 0.898\tCross entropy: 0.257\n",
      "Epoch: 54\tAccuracy: 0.897\tCross entropy: 0.265\n",
      "Epoch: 55\tAccuracy: 0.897\tCross entropy: 0.268\n",
      "Epoch: 56\tAccuracy: 0.898\tCross entropy: 0.262\n",
      "Epoch: 57\tAccuracy: 0.897\tCross entropy: 0.261\n",
      "Epoch: 58\tAccuracy: 0.899\tCross entropy: 0.256\n",
      "Epoch: 59\tAccuracy: 0.899\tCross entropy: 0.255\n",
      "Epoch: 60\tAccuracy: 0.899\tCross entropy: 0.256\n",
      "Epoch: 61\tAccuracy: 0.899\tCross entropy: 0.257\n",
      "Epoch: 62\tAccuracy: 0.899\tCross entropy: 0.257\n",
      "Epoch: 63\tAccuracy: 0.899\tCross entropy: 0.258\n",
      "Epoch: 64\tAccuracy: 0.899\tCross entropy: 0.257\n",
      "Epoch: 65\tAccuracy: 0.899\tCross entropy: 0.258\n",
      "Epoch: 66\tAccuracy: 0.898\tCross entropy: 0.259\n",
      "Epoch: 67\tAccuracy: 0.898\tCross entropy: 0.259\n",
      "Epoch: 68\tAccuracy: 0.898\tCross entropy: 0.260\n",
      "Epoch: 69\tAccuracy: 0.898\tCross entropy: 0.261\n",
      "Epoch: 70\tAccuracy: 0.898\tCross entropy: 0.261\n",
      "Epoch: 71\tAccuracy: 0.898\tCross entropy: 0.262\n",
      "Epoch: 72\tAccuracy: 0.898\tCross entropy: 0.262\n",
      "Epoch: 73\tAccuracy: 0.898\tCross entropy: 0.263\n",
      "Epoch: 74\tAccuracy: 0.898\tCross entropy: 0.263\n",
      "Epoch: 75\tAccuracy: 0.898\tCross entropy: 0.263\n",
      "Epoch: 76\tAccuracy: 0.899\tCross entropy: 0.262\n",
      "Epoch: 77\tAccuracy: 0.899\tCross entropy: 0.263\n",
      "Epoch: 78\tAccuracy: 0.899\tCross entropy: 0.264\n",
      "Epoch: 79\tAccuracy: 0.899\tCross entropy: 0.264\n",
      "Epoch: 80\tAccuracy: 0.899\tCross entropy: 0.264\n",
      "Epoch: 81\tAccuracy: 0.893\tCross entropy: 0.275\n",
      "Epoch: 82\tAccuracy: 0.897\tCross entropy: 0.267\n",
      "Epoch: 83\tAccuracy: 0.896\tCross entropy: 0.266\n",
      "Epoch: 84\tAccuracy: 0.899\tCross entropy: 0.261\n",
      "Epoch: 85\tAccuracy: 0.898\tCross entropy: 0.266\n",
      "Epoch: 86\tAccuracy: 0.899\tCross entropy: 0.262\n",
      "Epoch: 87\tAccuracy: 0.894\tCross entropy: 0.289\n",
      "Epoch: 88\tAccuracy: 0.898\tCross entropy: 0.269\n",
      "Epoch: 89\tAccuracy: 0.899\tCross entropy: 0.269\n",
      "Epoch: 90\tAccuracy: 0.899\tCross entropy: 0.269\n",
      "Epoch: 91\tAccuracy: 0.899\tCross entropy: 0.270\n",
      "Epoch: 92\tAccuracy: 0.899\tCross entropy: 0.270\n",
      "Epoch: 93\tAccuracy: 0.899\tCross entropy: 0.270\n",
      "Epoch: 94\tAccuracy: 0.899\tCross entropy: 0.270\n",
      "Epoch: 95\tAccuracy: 0.899\tCross entropy: 0.271\n",
      "Epoch: 96\tAccuracy: 0.899\tCross entropy: 0.271\n",
      "Epoch: 97\tAccuracy: 0.899\tCross entropy: 0.271\n",
      "Epoch: 98\tAccuracy: 0.899\tCross entropy: 0.269\n",
      "Epoch: 99\tAccuracy: 0.897\tCross entropy: 0.273\n"
     ]
    }
   ],
   "source": [
    "for i in range(100):\n",
    "    x_batches, y_batches = get_minibatches(train_images, train_labels, batch_size)\n",
    "    \n",
    "    for x_batch, y_batch in zip(x_batches, y_batches):\n",
    "        sess.run([train], feed_dict={x: x_batch, y: y_batch})\n",
    "    \n",
    "    pred, ce = sess.run([prediction, loss], feed_dict={x: test_images, y: test_labels})\n",
    "    accuracy = accuracy_score(np.argmax(test_labels, axis=1), np.argmax(pred, axis=1))\n",
    "    print('Epoch: %d\\tAccuracy: %.3f\\tCross entropy: %.3f' % (i, accuracy, ce))"
   ]
  },
  {
   "cell_type": "code",
   "execution_count": 14,
   "metadata": {
    "collapsed": false
   },
   "outputs": [
    {
     "data": {
      "text/plain": [
       "array([0, 7, 9, 2, 0, 4, 7, 7, 3, 7])"
      ]
     },
     "execution_count": 14,
     "metadata": {},
     "output_type": "execute_result"
    }
   ],
   "source": [
    "np.argmax(sess.run(prediction, feed_dict={x: test_images[:10]}), axis=1)"
   ]
  },
  {
   "cell_type": "code",
   "execution_count": 15,
   "metadata": {
    "collapsed": false
   },
   "outputs": [
    {
     "data": {
      "text/plain": [
       "array([6, 7, 9, 2, 6, 4, 7, 7, 3, 7])"
      ]
     },
     "execution_count": 15,
     "metadata": {},
     "output_type": "execute_result"
    }
   ],
   "source": [
    "np.argmax(test_labels[:10], axis=1)"
   ]
  },
  {
   "cell_type": "code",
   "execution_count": null,
   "metadata": {
    "collapsed": true
   },
   "outputs": [],
   "source": []
  }
 ],
 "metadata": {
  "anaconda-cloud": {},
  "kernelspec": {
   "display_name": "Python [Root]",
   "language": "python",
   "name": "Python [Root]"
  },
  "language_info": {
   "codemirror_mode": {
    "name": "ipython",
    "version": 3
   },
   "file_extension": ".py",
   "mimetype": "text/x-python",
   "name": "python",
   "nbconvert_exporter": "python",
   "pygments_lexer": "ipython3",
   "version": "3.5.2"
  }
 },
 "nbformat": 4,
 "nbformat_minor": 0
}
